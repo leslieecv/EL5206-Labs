{
 "cells": [
  {
   "attachments": {},
   "cell_type": "markdown",
   "metadata": {},
   "source": [
    "### EL5206-1: Laboratorio de Inteligencia Computacional y Robótica\n",
    "## Laboratorio 3: Procesamiento de Imágenes\n",
    "\n",
    "Integrantes:\n",
    "\n",
    "*   Leslie Cárdenas\n",
    "*   Matías Guzmán"
   ]
  },
  {
   "attachments": {},
   "cell_type": "markdown",
   "metadata": {},
   "source": [
    "# Introducción\n",
    "\n",
    "Este laboratorio tiene como objetivo desarrollar algoritmos simples de detección de movimiento y tracking de objetos, para posteriormente analizar su funcionamiento y construcción. "
   ]
  },
  {
   "cell_type": "code",
   "execution_count": 16,
   "metadata": {},
   "outputs": [],
   "source": [
    "import numpy as np\n",
    "import cv2\n",
    "import matplotlib.pyplot as plt"
   ]
  },
  {
   "attachments": {},
   "cell_type": "markdown",
   "metadata": {},
   "source": [
    "# Parte 1\n",
    "\n",
    "Detección de movimiento con diferencia de frames y modelo de fondo"
   ]
  },
  {
   "attachments": {},
   "cell_type": "markdown",
   "metadata": {},
   "source": [
    "### Item 1\n",
    "\n",
    "Se crea la función encargada de detectar movimientos, en donde se aplica una substracción entre dos imágenes."
   ]
  },
  {
   "cell_type": "code",
   "execution_count": 21,
   "metadata": {},
   "outputs": [],
   "source": [
    "def mov_det(img1, img2):\n",
    "    resultado = cv2.subtract(img1,img2)\n",
    "    return resultado"
   ]
  },
  {
   "attachments": {},
   "cell_type": "markdown",
   "metadata": {},
   "source": [
    "Se cargan las imágenes de las carpetas `seq1`, `seq2` y `seq3`. Al mismo tiempo, se transforman a escala de grises y se operan con la imágen siguiente, por último, se guardan en una lista, de tal forma que la imágen de la posición `det_1[0]` corresponderá a la substracción entre la segunda imágen y la primera."
   ]
  },
  {
   "cell_type": "code",
   "execution_count": 26,
   "metadata": {},
   "outputs": [],
   "source": [
    "det_1 = []\n",
    "for k in range(1,500):\n",
    "    path1 = str(k)\n",
    "    path2 = str(k + 1)\n",
    "\n",
    "    path1 = path1.zfill(4)\n",
    "    path2 = path2.zfill(4)\n",
    "\n",
    "    img1 = cv2.imread(f\"Lab-Mov/seq1/seq1/image-{path1}.jpg\", cv2.IMREAD_GRAYSCALE)\n",
    "    img2 = cv2.imread(f\"Lab-Mov/seq1/seq1/image-{path2}.jpg\", cv2.IMREAD_GRAYSCALE)\n",
    "    sub = mov_det(img1,img2)\n",
    "    det_1.append(sub)\n",
    "\n",
    "det_2 = []\n",
    "for k in range(1,500):\n",
    "    path1 = str(k)\n",
    "    path2 = str(k + 1)\n",
    "\n",
    "    path1 = path1.zfill(4)\n",
    "    path2 = path2.zfill(4)\n",
    "\n",
    "    img1 = cv2.imread(f\"Lab-Mov/seq1/seq1/image-{path1}.jpg\", cv2.IMREAD_GRAYSCALE)\n",
    "    img2 = cv2.imread(f\"Lab-Mov/seq1/seq1/image-{path2}.jpg\", cv2.IMREAD_GRAYSCALE)\n",
    "    sub = mov_det(img1,img2)\n",
    "    det_2.append(sub)\n",
    "\n",
    "det_3 = []\n",
    "for k in range(1,500):\n",
    "    path1 = str(k)\n",
    "    path2 = str(k + 1)\n",
    "\n",
    "    path1 = path1.zfill(4)\n",
    "    path2 = path2.zfill(4)\n",
    "\n",
    "    img1 = cv2.imread(f\"Lab-Mov/seq1/seq1/image-{path1}.jpg\", cv2.IMREAD_GRAYSCALE)\n",
    "    img2 = cv2.imread(f\"Lab-Mov/seq1/seq1/image-{path2}.jpg\", cv2.IMREAD_GRAYSCALE)\n",
    "    sub = mov_det(img1,img2)\n",
    "    det_3.append(sub)\n"
   ]
  },
  {
   "cell_type": "code",
   "execution_count": null,
   "metadata": {},
   "outputs": [],
   "source": [
    "fig, axs = plt.subplots(3, 2, figsize =(5, 20))\n",
    "axs[0, 0].imshow(det_1[253])\n",
    "axs[0, 0].axis(\"off\")\n",
    "axs[0, 1].imshow(det_1[256], cmap=\"gray\")\n",
    "axs[0, 1].axis(\"off\")\n",
    "\n",
    "axs[1, 0].imshow(det_2[5])\n",
    "axs[1, 0].axis(\"off\")\n",
    "axs[1, 1].imshow(det_2[256], cmap=\"gray\")\n",
    "axs[1, 1].axis(\"off\")\n",
    "\n",
    "axs[2, 0].imshow(det_3[5])\n",
    "axs[2, 0].axis(\"off\")\n",
    "axs[2, 1].imshow(det_3[256], cmap=\"gray\")\n",
    "axs[2, 1].axis(\"off\")\n",
    "\n",
    "plt.plot()"
   ]
  },
  {
   "attachments": {},
   "cell_type": "markdown",
   "metadata": {},
   "source": [
    "### Item 2"
   ]
  },
  {
   "cell_type": "code",
   "execution_count": 38,
   "metadata": {},
   "outputs": [],
   "source": [
    "img_base = cv2.imread('Lab-Mov/fondo/fondo/image-0001.jpg', cv2.IMREAD_GRAYSCALE)\n",
    "img_mean = np.zeros(img_base.shape)\n",
    "img_std = np.zeros(img_base.shape)\n",
    "\n",
    "\n",
    "vec = []\n",
    "for k in range(1,176):\n",
    "    num = str(k).zfill(4)\n",
    "    img = cv2.imread(f\"Lab-Mov/fondo/fondo/image-{num}.jpg\", cv2.IMREAD_GRAYSCALE)\n",
    "    vec.append(img)"
   ]
  },
  {
   "cell_type": "code",
   "execution_count": 44,
   "metadata": {},
   "outputs": [
    {
     "data": {
      "text/plain": [
       "175"
      ]
     },
     "execution_count": 44,
     "metadata": {},
     "output_type": "execute_result"
    }
   ],
   "source": [
    "len(vec)"
   ]
  },
  {
   "attachments": {},
   "cell_type": "markdown",
   "metadata": {},
   "source": [
    "### Item 3"
   ]
  },
  {
   "cell_type": "code",
   "execution_count": 32,
   "metadata": {},
   "outputs": [
    {
     "ename": "IndentationError",
     "evalue": "expected an indented block (3677683726.py, line 12)",
     "output_type": "error",
     "traceback": [
      "\u001b[1;36m  Cell \u001b[1;32mIn[32], line 12\u001b[1;36m\u001b[0m\n\u001b[1;33m    return hist_row, hist_column\u001b[0m\n\u001b[1;37m    ^\u001b[0m\n\u001b[1;31mIndentationError\u001b[0m\u001b[1;31m:\u001b[0m expected an indented block\n"
     ]
    }
   ],
   "source": [
    "'''\n",
    "hist: img(binaria) -> hist_row, hist_column\n",
    "\n",
    "'''\n",
    "def hist(img):\n",
    "    hist_row = []\n",
    "    hist_column = []\n",
    "\n",
    "    # primero histograma por fila\n",
    "    for i in range(img.shape[0]):\n",
    "        value = 0\n",
    "        for j in range(img.shape[1]):\n",
    "            if img[i, j] == 255:\n",
    "                value += 1\n",
    "        hist_row.append(value)\n",
    "\n",
    "    # luego por columna\n",
    "    for j in range(img.shape[1]):\n",
    "        value = 0\n",
    "        for i in range(img.shape[0]):\n",
    "            if img[i, j] == 255:\n",
    "                value += 1\n",
    "        hist_column.append(value)\n",
    "\n",
    "    return hist_row, hist_column"
   ]
  },
  {
   "attachments": {},
   "cell_type": "markdown",
   "metadata": {},
   "source": [
    "Ocupando la función anterior, se calculan los histogramas de las imágenes y se procesan para calcular el centro del `blob`"
   ]
  },
  {
   "cell_type": "code",
   "execution_count": null,
   "metadata": {},
   "outputs": [],
   "source": [
    "hist_row, hist_column = hist(img)\n",
    "\n",
    "# Funciona con SOLO UN blob\n",
    "umbral = 20\n",
    "i_min = 0\n",
    "i_max = 0\n",
    "for i, value in enumerate(hist_row):\n",
    "    if value >= umbral:\n",
    "        i_min = i\n",
    "    if i_min != 0 and value <= umbral:\n",
    "        i_max = i\n",
    "i_c = (i_max + i_min)//2\n",
    "\n",
    "\n",
    "j_min = 0\n",
    "j_max = 0\n",
    "for j, value in enumerate(hist_column):\n",
    "    if value >= umbral:\n",
    "        j_min = j\n",
    "    if j_min != 0 and value <= umbral:\n",
    "        j_max = j\n",
    "j_c = (j_max + j_min)//2"
   ]
  },
  {
   "attachments": {},
   "cell_type": "markdown",
   "metadata": {},
   "source": [
    "### Item 4"
   ]
  },
  {
   "cell_type": "code",
   "execution_count": null,
   "metadata": {},
   "outputs": [],
   "source": []
  },
  {
   "attachments": {},
   "cell_type": "markdown",
   "metadata": {},
   "source": [
    "### Item 5"
   ]
  }
 ],
 "metadata": {
  "kernelspec": {
   "display_name": "Python 3",
   "language": "python",
   "name": "python3"
  },
  "language_info": {
   "codemirror_mode": {
    "name": "ipython",
    "version": 3
   },
   "file_extension": ".py",
   "mimetype": "text/x-python",
   "name": "python",
   "nbconvert_exporter": "python",
   "pygments_lexer": "ipython3",
   "version": "3.9.12"
  },
  "orig_nbformat": 4
 },
 "nbformat": 4,
 "nbformat_minor": 2
}
