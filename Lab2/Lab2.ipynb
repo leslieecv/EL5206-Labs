{
 "cells": [
  {
   "cell_type": "code",
   "execution_count": null,
   "metadata": {},
   "outputs": [],
   "source": []
  },
  {
   "cell_type": "code",
   "execution_count": 2,
   "metadata": {},
   "outputs": [],
   "source": [
    "import numpy as np\n",
    "import cv2\n",
    "import math\n",
    "import matplotlib.pyplot as plt"
   ]
  },
  {
   "attachments": {},
   "cell_type": "markdown",
   "metadata": {},
   "source": [
    "Parte 1"
   ]
  },
  {
   "cell_type": "code",
   "execution_count": 3,
   "metadata": {},
   "outputs": [],
   "source": [
    "def lbp(img):\n",
    "    return img"
   ]
  },
  {
   "attachments": {},
   "cell_type": "markdown",
   "metadata": {},
   "source": [
    "Parte 2\n",
    "\n",
    "Para calcular el histograma de la forma pedida en el enunciado es necesario notar que todas las imágenes miden 500x500 pixeles, y si se quieren tomar 25 subimágenes de 100x100 habrá un vertice cada 80 pixeles. Luego, usando la función de histograma de numpy se calculan los valores, usarando 89 bins que se convierten en un vector\n",
    "\n",
    "Posteriormente, se unen los 25 vectores generando asi para cada imagen un vector de 2255."
   ]
  },
  {
   "cell_type": "code",
   "execution_count": 10,
   "metadata": {},
   "outputs": [],
   "source": [
    "def hist(img):\n",
    "    img_bn = cv2.cvtColor(img, cv2.COLOR_BGR2GRAY)\n",
    "    \n",
    "    n = int(math.sqrt(25))\n",
    "    a = int((img_bn.shape[0]-100)/n)\n",
    "    caract = []\n",
    "    for i in range(n):\n",
    "        for j in range(n):\n",
    "            img_100 = img_bn[i*a:i*a+100,j*a:j*a+100] # subimagen\n",
    "            histogram, _ = np.histogram(img_100, bins=89) #problema: los bins se ajustan a cada imagen, no es comun\n",
    "            caract.append(histogram)\n",
    "    return np.reshape(caract, (1,-1))[0]\n",
    "            \n"
   ]
  },
  {
   "attachments": {},
   "cell_type": "markdown",
   "metadata": {},
   "source": [
    "Parte 3"
   ]
  },
  {
   "cell_type": "code",
   "execution_count": 4,
   "metadata": {},
   "outputs": [],
   "source": [
    "def dist_vect(v1, v2):\n",
    "    d = 0\n",
    "    for i in range(len(v1)):\n",
    "        d+= abs(v1[i]-v2[i])\n",
    "    return d\n"
   ]
  },
  {
   "attachments": {},
   "cell_type": "markdown",
   "metadata": {},
   "source": [
    "Parte 4"
   ]
  },
  {
   "cell_type": "code",
   "execution_count": 11,
   "metadata": {},
   "outputs": [],
   "source": [
    "n_gal=8\n",
    "gal_caract=[]\n",
    "for i in range(1,n_gal+1):\n",
    "    name = 'cell_gal/I'+str(i)+'_gal.jpg'\n",
    "    img = cv2.imread(name)\n",
    "    img_lbp = lbp(img)\n",
    "    v = hist(img_lbp)\n",
    "    gal_caract.append(v)\n",
    "np.save('gal_caract.npy', gal_caract)\n"
   ]
  },
  {
   "attachments": {},
   "cell_type": "markdown",
   "metadata": {},
   "source": [
    "Parte 5"
   ]
  },
  {
   "cell_type": "code",
   "execution_count": 82,
   "metadata": {},
   "outputs": [],
   "source": [
    "n_test=8\n",
    "test_caract=[]\n",
    "for i in range(1,n_test+1):\n",
    "    name = 'cell_test/I'+str(i)+'_test.jpg'\n",
    "    img = cv2.imread(name)\n",
    "    img_lbp = lbp(img)\n",
    "    v = hist(img_lbp)\n",
    "    test_caract.append(v)\n",
    "np.save('test_caract.npy', test_caract)"
   ]
  },
  {
   "cell_type": "code",
   "execution_count": 93,
   "metadata": {},
   "outputs": [
    {
     "name": "stdout",
     "output_type": "stream",
     "text": [
      "Para imagen I1_test\n",
      "\tComparado con I1_gal:143056\n",
      "\tComparado con I2_gal:192476\n",
      "\tComparado con I3_gal:343714\n",
      "\tComparado con I4_gal:226802\n",
      "\tComparado con I5_gal:250386\n",
      "\tComparado con I6_gal:181522\n",
      "\tComparado con I7_gal:271114\n",
      "\tComparado con I8_gal:338666\n",
      "Para imagen I2_test\n",
      "\tComparado con I1_gal:208060\n",
      "\tComparado con I2_gal:142860\n",
      "\tComparado con I3_gal:338730\n",
      "\tComparado con I4_gal:244518\n",
      "\tComparado con I5_gal:274874\n",
      "\tComparado con I6_gal:199632\n",
      "\tComparado con I7_gal:268304\n",
      "\tComparado con I8_gal:326192\n",
      "Para imagen I3_test\n",
      "\tComparado con I1_gal:356956\n",
      "\tComparado con I2_gal:356624\n",
      "\tComparado con I3_gal:321676\n",
      "\tComparado con I4_gal:368002\n",
      "\tComparado con I5_gal:366962\n",
      "\tComparado con I6_gal:351172\n",
      "\tComparado con I7_gal:357972\n",
      "\tComparado con I8_gal:394902\n",
      "Para imagen I4_test\n",
      "\tComparado con I1_gal:215096\n",
      "\tComparado con I2_gal:230418\n",
      "\tComparado con I3_gal:337928\n",
      "\tComparado con I4_gal:236702\n",
      "\tComparado con I5_gal:270426\n",
      "\tComparado con I6_gal:206952\n",
      "\tComparado con I7_gal:276730\n",
      "\tComparado con I8_gal:349216\n",
      "Para imagen I5_test\n",
      "\tComparado con I1_gal:265834\n",
      "\tComparado con I2_gal:300526\n",
      "\tComparado con I3_gal:341140\n",
      "\tComparado con I4_gal:318828\n",
      "\tComparado con I5_gal:266018\n",
      "\tComparado con I6_gal:305780\n",
      "\tComparado con I7_gal:310146\n",
      "\tComparado con I8_gal:363244\n",
      "Para imagen I6_test\n",
      "\tComparado con I1_gal:212074\n",
      "\tComparado con I2_gal:204068\n",
      "\tComparado con I3_gal:349736\n",
      "\tComparado con I4_gal:228034\n",
      "\tComparado con I5_gal:292760\n",
      "\tComparado con I6_gal:190724\n",
      "\tComparado con I7_gal:278794\n",
      "\tComparado con I8_gal:320510\n",
      "Para imagen I7_test\n",
      "\tComparado con I1_gal:278570\n",
      "\tComparado con I2_gal:292874\n",
      "\tComparado con I3_gal:344638\n",
      "\tComparado con I4_gal:254766\n",
      "\tComparado con I5_gal:303922\n",
      "\tComparado con I6_gal:262128\n",
      "\tComparado con I7_gal:215182\n",
      "\tComparado con I8_gal:343020\n",
      "Para imagen I8_test\n",
      "\tComparado con I1_gal:369842\n",
      "\tComparado con I2_gal:355814\n",
      "\tComparado con I3_gal:382708\n",
      "\tComparado con I4_gal:368994\n",
      "\tComparado con I5_gal:377306\n",
      "\tComparado con I6_gal:372316\n",
      "\tComparado con I7_gal:390930\n",
      "\tComparado con I8_gal:366856\n"
     ]
    }
   ],
   "source": [
    "for i in range(n_test):\n",
    "    print('Para imagen I'+str(i+1)+'_test')\n",
    "    for j in range(n_gal):\n",
    "        v_test = test_caract[i]\n",
    "        v_gal = gal_caract[j]\n",
    "        d = dist_vect(v_test, v_gal)\n",
    "        print('\\tComparado con I'+str(j+1)+'_gal: '+str(d))\n"
   ]
  }
 ],
 "metadata": {
  "kernelspec": {
   "display_name": "Python 3",
   "language": "python",
   "name": "python3"
  },
  "language_info": {
   "codemirror_mode": {
    "name": "ipython",
    "version": 3
   },
   "file_extension": ".py",
   "mimetype": "text/x-python",
   "name": "python",
   "nbconvert_exporter": "python",
   "pygments_lexer": "ipython3",
   "version": "3.9.12"
  },
  "orig_nbformat": 4
 },
 "nbformat": 4,
 "nbformat_minor": 2
}
