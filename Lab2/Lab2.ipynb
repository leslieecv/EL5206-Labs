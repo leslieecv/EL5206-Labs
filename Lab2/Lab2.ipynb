{
 "cells": [
  {
   "cell_type": "code",
   "execution_count": null,
   "metadata": {},
   "outputs": [],
   "source": []
  },
  {
   "cell_type": "code",
   "execution_count": 10,
   "metadata": {},
   "outputs": [],
   "source": [
    "import numpy as np\n",
    "import cv2\n",
    "import math\n",
    "import matplotlib.pyplot as plt"
   ]
  },
  {
   "attachments": {},
   "cell_type": "markdown",
   "metadata": {},
   "source": [
    "Parte 1"
   ]
  },
  {
   "cell_type": "code",
   "execution_count": 47,
   "metadata": {},
   "outputs": [],
   "source": [
    "def lbp(img):\n",
    "    img_bn = cv2.cvtColor(img, cv2.COLOR_BGR2GRAY)\n",
    "    emp = np.zeros(img_bn.shape)    \n",
    "    for i in range(1, img_bn.shape[0]-1):\n",
    "        for j in range(1, img_bn.shape[1]-1):\n",
    "            # Cada pixel\n",
    "            emp[i ,j] = calculo3x3(img_bn[i-1:i+2, j-1:j+2])\n",
    "    \n",
    "    emp[0,:] = emp[1,:]\n",
    "    emp[img_bn.shape[0]-1,:] = emp[img_bn.shape[0]-2,:]\n",
    "    emp[:,0] = emp[:,1]\n",
    "    emp[:, img_bn.shape[1]-1] = emp[:, img_bn.shape[1]-2]\n",
    "    return emp\n",
    "\n",
    "\n",
    "def calculo3x3(img):\n",
    "    px = img[1,1]\n",
    "    mask = [128, 64, 32, 1, 0, 16, 2, 4, 8]\n",
    "    arr = []\n",
    "    for i in range(3):\n",
    "        for j in range(3):\n",
    "            if img[i, j] < px:\n",
    "                arr.append(0)\n",
    "            else:\n",
    "                arr.append(1)\n",
    "    # Multiplicamos por la mascara:\n",
    "    n_pix =0\n",
    "    for k in range(len(arr)):\n",
    "        n_pix += arr[k] * mask[k]\n",
    "    return n_pix"
   ]
  },
  {
   "attachments": {},
   "cell_type": "markdown",
   "metadata": {},
   "source": [
    "Parte 2"
   ]
  },
  {
   "cell_type": "code",
   "execution_count": 76,
   "metadata": {},
   "outputs": [],
   "source": [
    "def hist(img):\n",
    "    a=((img.shape[0])-100)\n",
    "    b=((img.shape[1])-100)\n",
    "    n = int(math.sqrt(25)) #aproximar al entero menor\n",
    "\n",
    "    caract = []\n",
    "    for i in range(n):\n",
    "        for j in range(n):\n",
    "            img_100 = img[i*80:i*80+100,j*80:j*80+100]\n",
    "            histogram, _ = np.histogram(img_100, bins=89, range = (0,255)) #problema: los bins se ajustan a cada imagen, no es comun\n",
    "            caract.append(histogram)\n",
    "    return np.reshape(caract, (1,-1))[0]\n",
    "            \n"
   ]
  },
  {
   "attachments": {},
   "cell_type": "markdown",
   "metadata": {},
   "source": [
    "Parte 3"
   ]
  },
  {
   "cell_type": "code",
   "execution_count": 37,
   "metadata": {},
   "outputs": [],
   "source": [
    "def dist_vect(v1, v2):\n",
    "    d = 0\n",
    "    for i in range(len(v1)):\n",
    "        d+= abs(v1[i]-v2[i])\n",
    "    return d\n"
   ]
  },
  {
   "attachments": {},
   "cell_type": "markdown",
   "metadata": {},
   "source": [
    "Parte 4"
   ]
  },
  {
   "cell_type": "code",
   "execution_count": 81,
   "metadata": {},
   "outputs": [],
   "source": [
    "n_gal=8\n",
    "gal_caract=[]\n",
    "for i in range(1,n_gal+1):\n",
    "    name = 'cell_gal/I'+str(i)+'_gal.jpg'\n",
    "    img = cv2.imread(name)\n",
    "    img_lbp = lbp(img)\n",
    "    v = hist(img_lbp)\n",
    "    gal_caract.append(v)\n",
    "np.save('gal_caract.npy', gal_caract)\n"
   ]
  },
  {
   "attachments": {},
   "cell_type": "markdown",
   "metadata": {},
   "source": [
    "Parte 5"
   ]
  },
  {
   "cell_type": "code",
   "execution_count": 82,
   "metadata": {},
   "outputs": [],
   "source": [
    "n_test=8\n",
    "test_caract=[]\n",
    "for i in range(1,n_test+1):\n",
    "    name = 'cell_test/I'+str(i)+'_test.jpg'\n",
    "    img = cv2.imread(name)\n",
    "    img_lbp = lbp(img)\n",
    "    v = hist(img_lbp)\n",
    "    test_caract.append(v)\n",
    "np.save('test_caract.npy', test_caract)"
   ]
  },
  {
   "cell_type": "code",
   "execution_count": 93,
   "metadata": {},
   "outputs": [
    {
     "name": "stdout",
     "output_type": "stream",
     "text": [
      "Para imagen I1_test\n",
      "\tComparado con I1_gal:143056\n",
      "\tComparado con I2_gal:192476\n",
      "\tComparado con I3_gal:343714\n",
      "\tComparado con I4_gal:226802\n",
      "\tComparado con I5_gal:250386\n",
      "\tComparado con I6_gal:181522\n",
      "\tComparado con I7_gal:271114\n",
      "\tComparado con I8_gal:338666\n",
      "Para imagen I2_test\n",
      "\tComparado con I1_gal:208060\n",
      "\tComparado con I2_gal:142860\n",
      "\tComparado con I3_gal:338730\n",
      "\tComparado con I4_gal:244518\n",
      "\tComparado con I5_gal:274874\n",
      "\tComparado con I6_gal:199632\n",
      "\tComparado con I7_gal:268304\n",
      "\tComparado con I8_gal:326192\n",
      "Para imagen I3_test\n",
      "\tComparado con I1_gal:356956\n",
      "\tComparado con I2_gal:356624\n",
      "\tComparado con I3_gal:321676\n",
      "\tComparado con I4_gal:368002\n",
      "\tComparado con I5_gal:366962\n",
      "\tComparado con I6_gal:351172\n",
      "\tComparado con I7_gal:357972\n",
      "\tComparado con I8_gal:394902\n",
      "Para imagen I4_test\n",
      "\tComparado con I1_gal:215096\n",
      "\tComparado con I2_gal:230418\n",
      "\tComparado con I3_gal:337928\n",
      "\tComparado con I4_gal:236702\n",
      "\tComparado con I5_gal:270426\n",
      "\tComparado con I6_gal:206952\n",
      "\tComparado con I7_gal:276730\n",
      "\tComparado con I8_gal:349216\n",
      "Para imagen I5_test\n",
      "\tComparado con I1_gal:265834\n",
      "\tComparado con I2_gal:300526\n",
      "\tComparado con I3_gal:341140\n",
      "\tComparado con I4_gal:318828\n",
      "\tComparado con I5_gal:266018\n",
      "\tComparado con I6_gal:305780\n",
      "\tComparado con I7_gal:310146\n",
      "\tComparado con I8_gal:363244\n",
      "Para imagen I6_test\n",
      "\tComparado con I1_gal:212074\n",
      "\tComparado con I2_gal:204068\n",
      "\tComparado con I3_gal:349736\n",
      "\tComparado con I4_gal:228034\n",
      "\tComparado con I5_gal:292760\n",
      "\tComparado con I6_gal:190724\n",
      "\tComparado con I7_gal:278794\n",
      "\tComparado con I8_gal:320510\n",
      "Para imagen I7_test\n",
      "\tComparado con I1_gal:278570\n",
      "\tComparado con I2_gal:292874\n",
      "\tComparado con I3_gal:344638\n",
      "\tComparado con I4_gal:254766\n",
      "\tComparado con I5_gal:303922\n",
      "\tComparado con I6_gal:262128\n",
      "\tComparado con I7_gal:215182\n",
      "\tComparado con I8_gal:343020\n",
      "Para imagen I8_test\n",
      "\tComparado con I1_gal:369842\n",
      "\tComparado con I2_gal:355814\n",
      "\tComparado con I3_gal:382708\n",
      "\tComparado con I4_gal:368994\n",
      "\tComparado con I5_gal:377306\n",
      "\tComparado con I6_gal:372316\n",
      "\tComparado con I7_gal:390930\n",
      "\tComparado con I8_gal:366856\n"
     ]
    }
   ],
   "source": [
    "for i in range(n_test):\n",
    "    print('Para imagen I'+str(i+1)+'_test')\n",
    "    for j in range(n_gal):\n",
    "        v_test = test_caract[i]\n",
    "        v_gal = gal_caract[j]\n",
    "        d = dist_vect(v_test, v_gal)\n",
    "        print('\\tComparado con I'+str(j+1)+'_gal: '+str(d))\n"
   ]
  }
 ],
 "metadata": {
  "kernelspec": {
   "display_name": "Python 3",
   "language": "python",
   "name": "python3"
  },
  "language_info": {
   "codemirror_mode": {
    "name": "ipython",
    "version": 3
   },
   "file_extension": ".py",
   "mimetype": "text/x-python",
   "name": "python",
   "nbconvert_exporter": "python",
   "pygments_lexer": "ipython3",
   "version": "3.9.12"
  },
  "orig_nbformat": 4
 },
 "nbformat": 4,
 "nbformat_minor": 2
}
